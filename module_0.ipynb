{
 "cells": [
  {
   "cell_type": "code",
   "execution_count": 14,
   "metadata": {},
   "outputs": [
    {
     "name": "stdout",
     "output_type": "stream",
     "text": [
      "Вы угадали число 1 за 6 попыток.\n"
     ]
    }
   ],
   "source": [
    "number = np.random.randint(1,101)   #загадали число\n",
    "count = 0                           #cчётчик попыток\n",
    "low, hi = 1, 101\n",
    "while True:\n",
    "    count += 1\n",
    "    possible = (low + hi) // 2\n",
    "    if number > possible:\n",
    "        low = possible + 1\n",
    "    elif number < possible:\n",
    "        hi = possible - 1\n",
    "    else: break\n",
    "print (f\"Вы угадали число {number} за {count} попыток.\")"
   ]
  }
 ],
 "metadata": {
  "kernelspec": {
   "display_name": "Python 3",
   "language": "python",
   "name": "python3"
  },
  "language_info": {
   "codemirror_mode": {
    "name": "ipython",
    "version": 3
   },
   "file_extension": ".py",
   "mimetype": "text/x-python",
   "name": "python",
   "nbconvert_exporter": "python",
   "pygments_lexer": "ipython3",
   "version": "3.8.3"
  }
 },
 "nbformat": 4,
 "nbformat_minor": 4
}
